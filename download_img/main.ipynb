{
 "cells": [
  {
   "cell_type": "code",
   "execution_count": 8,
   "metadata": {},
   "outputs": [],
   "source": [
    "from utils import download_images"
   ]
  },
  {
   "cell_type": "code",
   "execution_count": 9,
   "metadata": {},
   "outputs": [],
   "source": [
    "import pandas as pd\n",
    "from tqdm import tqdm\n",
    "import multiprocessing\n",
    "from functools import partial\n",
    "from utils import download_image  # Import the function\n",
    "\n",
    "def download_images(image_links, download_folder, allow_multiprocessing=True):\n",
    "    if allow_multiprocessing:\n",
    "        download_image_partial = partial(\n",
    "            download_image, save_folder=download_folder, retries=3, delay=3)\n",
    "\n",
    "        with multiprocessing.Pool(64) as pool:\n",
    "            list(tqdm(pool.imap(download_image_partial, image_links), total=len(image_links)))\n",
    "            pool.close()\n",
    "            pool.join()\n",
    "    else:\n",
    "        for image_link in tqdm(image_links, total=len(image_links)):\n",
    "            download_image(image_link, save_folder=download_folder, retries=3, delay=3)\n"
   ]
  },
  {
   "cell_type": "code",
   "execution_count": 10,
   "metadata": {},
   "outputs": [
    {
     "name": "stderr",
     "output_type": "stream",
     "text": [
      "100%|██████████| 88/88 [00:08<00:00, 10.99it/s]\n"
     ]
    }
   ],
   "source": [
    "\n",
    "if __name__ == \"__main__\":\n",
    "    # Example usage\n",
    "    data = pd.read_csv('/Users/aryanahmadchaudhary/Amazon ML Hackathon/Download_Images/sample_test.csv')\n",
    "    image_links = data['image_link'].tolist()\n",
    "    download_images(image_links, '/Users/aryanahmadchaudhary/Amazon ML Hackathon/Download_Images/new/Images')\n"
   ]
  },
  {
   "cell_type": "code",
   "execution_count": 11,
   "metadata": {},
   "outputs": [],
   "source": [
    "import os\n",
    "import numpy as np\n",
    "from PIL import Image\n",
    "from tqdm import tqdm\n",
    "\n",
    "# Define the target size for resizing (you can adjust this based on your model's requirement)\n",
    "TARGET_SIZE = (224, 224)\n",
    "SAVE_PROCESSED_IMAGES = True  # Set to True to save processed images\n",
    "\n",
    "def preprocess_image(image_path, target_size=TARGET_SIZE):\n",
    "    \"\"\"\n",
    "    Preprocess a single image by resizing it and normalizing its pixel values.\n",
    "\n",
    "    Args:\n",
    "        image_path (str): Path to the image file.\n",
    "        target_size (tuple): Desired image size (width, height).\n",
    "\n",
    "    Returns:\n",
    "        np.array: Preprocessed image as a NumPy array.\n",
    "    \"\"\"\n",
    "    try:\n",
    "        # Open the image\n",
    "        img = Image.open(image_path)\n",
    "\n",
    "        # Resize the image\n",
    "        img = img.resize(target_size)\n",
    "\n",
    "        # Convert image to array\n",
    "        img_array = np.array(img)\n",
    "\n",
    "        # Normalize pixel values (0-255) to range [0, 1]\n",
    "        img_array = img_array / 255.0\n",
    "\n",
    "        return img_array\n",
    "\n",
    "    except Exception as e:\n",
    "        print(f\"Error processing image {image_path}: {e}\")\n",
    "        return None\n",
    "\n",
    "def preprocess_images(image_folder, target_size=TARGET_SIZE):\n",
    "    \"\"\"\n",
    "    Preprocess all images in a given folder.\n",
    "\n",
    "    Args:\n",
    "        image_folder (str): Path to the folder containing the images.\n",
    "        target_size (tuple): Desired image size (width, height).\n",
    "\n",
    "    Returns:\n",
    "        list: List of preprocessed images as NumPy arrays.\n",
    "    \"\"\"\n",
    "    preprocessed_images = []\n",
    "\n",
    "    # Get a list of image file names\n",
    "    image_files = [os.path.join(image_folder, f) for f in os.listdir(image_folder) if f.endswith(('png', 'jpg', 'jpeg'))]\n",
    "    total_images = len(image_files)\n",
    "    \n",
    "    print(f\"Found {total_images} images to preprocess.\")\n",
    "\n",
    "    for image_file in tqdm(image_files, desc=\"Preprocessing images\"):\n",
    "        preprocessed_image = preprocess_image(image_file, target_size=target_size)\n",
    "        \n",
    "        if preprocessed_image is not None:\n",
    "            preprocessed_images.append(preprocessed_image)\n",
    "\n",
    "            # Optionally save the preprocessed image\n",
    "            if SAVE_PROCESSED_IMAGES:\n",
    "                save_processed_image(preprocessed_image, image_file, target_size)\n",
    "\n",
    "    return np.array(preprocessed_images)\n",
    "\n",
    "def save_processed_image(image_array, original_image_path, target_size):\n",
    "    \"\"\"\n",
    "    Save the preprocessed image as a .jpg file in a new folder.\n",
    "\n",
    "    Args:\n",
    "        image_array (np.array): The preprocessed image array.\n",
    "        original_image_path (str): Original image path to derive the name.\n",
    "        target_size (tuple): Target size for image resizing.\n",
    "    \"\"\"\n",
    "    try:\n",
    "        processed_image_folder = \"preprocessed_images\"\n",
    "        if not os.path.exists(processed_image_folder):\n",
    "            os.makedirs(processed_image_folder)\n",
    "\n",
    "        # Convert array back to an image\n",
    "        img = Image.fromarray((image_array * 255).astype('uint8'))\n",
    "\n",
    "        # Generate save path\n",
    "        filename = os.path.basename(original_image_path)\n",
    "        save_path = os.path.join(processed_image_folder, f\"processed_{filename}\")\n",
    "\n",
    "        # Save image\n",
    "        img.save(save_path)\n",
    "        print(f\"Saved preprocessed image to {save_path}\")\n",
    "    except Exception as e:\n",
    "        print(f\"Error saving image {original_image_path}: {e}\")\n"
   ]
  },
  {
   "cell_type": "code",
   "execution_count": 12,
   "metadata": {},
   "outputs": [
    {
     "name": "stdout",
     "output_type": "stream",
     "text": [
      "Found 54 images to preprocess.\n"
     ]
    },
    {
     "name": "stderr",
     "output_type": "stream",
     "text": [
      "Preprocessing images:   9%|▉         | 5/54 [00:00<00:01, 46.41it/s]"
     ]
    },
    {
     "name": "stdout",
     "output_type": "stream",
     "text": [
      "Saved preprocessed image to preprocessed_images/processed_71ta6wY3HtL.jpg\n",
      "Saved preprocessed image to preprocessed_images/processed_51+oHGvSvuL.jpg\n",
      "Saved preprocessed image to preprocessed_images/processed_41zgjN+zW3L.jpg\n",
      "Saved preprocessed image to preprocessed_images/processed_71fWddA0+yL.jpg\n",
      "Saved preprocessed image to preprocessed_images/processed_51cPZYLk2YL.jpg\n",
      "Saved preprocessed image to preprocessed_images/processed_41-NCxNuBxL.jpg\n",
      "Saved preprocessed image to preprocessed_images/processed_71eCfiIG-AL.jpg\n",
      "Saved preprocessed image to preprocessed_images/processed_51KykmLgc0L.jpg\n",
      "Saved preprocessed image to preprocessed_images/processed_51r7U52rh7L.jpg\n",
      "Saved preprocessed image to preprocessed_images/processed_615Cjzm6pyL.jpg\n",
      "Saved preprocessed image to preprocessed_images/processed_514pScQdlCL.jpg\n",
      "Saved preprocessed image to preprocessed_images/processed_51jTe522S2L.jpg\n",
      "Saved preprocessed image to preprocessed_images/processed_41ygXRvf8lL.jpg\n"
     ]
    },
    {
     "name": "stderr",
     "output_type": "stream",
     "text": [
      "Preprocessing images:  26%|██▌       | 14/54 [00:00<00:00, 66.94it/s]"
     ]
    },
    {
     "name": "stdout",
     "output_type": "stream",
     "text": [
      "Saved preprocessed image to preprocessed_images/processed_71UYDq4nfnL.jpg\n",
      "Saved preprocessed image to preprocessed_images/processed_51oaOP8qJlL.jpg\n"
     ]
    },
    {
     "name": "stderr",
     "output_type": "stream",
     "text": [
      "Preprocessing images:  39%|███▉      | 21/54 [00:00<00:00, 63.44it/s]"
     ]
    },
    {
     "name": "stdout",
     "output_type": "stream",
     "text": [
      "Saved preprocessed image to preprocessed_images/processed_61E2XRNSdYL.jpg\n",
      "Saved preprocessed image to preprocessed_images/processed_71WAjPMQDWL.jpg\n",
      "Saved preprocessed image to preprocessed_images/processed_71UN1IxKp4L.jpg\n",
      "Saved preprocessed image to preprocessed_images/processed_514bY8c4ZIL.jpg\n",
      "Saved preprocessed image to preprocessed_images/processed_51EBBqNOJ1L.jpg\n",
      "Saved preprocessed image to preprocessed_images/processed_51y79cwGJFL.jpg\n",
      "Saved preprocessed image to preprocessed_images/processed_41uwo4PVnuL.jpg\n",
      "Saved preprocessed image to preprocessed_images/processed_41nblnEkJ3L.jpg\n",
      "Saved preprocessed image to preprocessed_images/processed_51P0IuT6RsL.jpg\n",
      "Saved preprocessed image to preprocessed_images/processed_41o3iis9E7L.jpg\n",
      "Saved preprocessed image to preprocessed_images/processed_41pvwR9GbaL.jpg\n",
      "Saved preprocessed image to preprocessed_images/processed_51l6c6UcRZL.jpg\n",
      "Saved preprocessed image to preprocessed_images/processed_51kdBAv6ImL.jpg\n",
      "Saved preprocessed image to preprocessed_images/processed_51vwYpDz2tL.jpg\n",
      "Saved preprocessed image to preprocessed_images/processed_417NJrPEk+L.jpg\n",
      "Saved preprocessed image to preprocessed_images/processed_41ADVPQgZOL.jpg\n",
      "Saved preprocessed image to preprocessed_images/processed_51H+mX2Wk7L.jpg\n",
      "Saved preprocessed image to preprocessed_images/processed_51fAzxNm+cL.jpg\n",
      "Saved preprocessed image to preprocessed_images/processed_510xYFNYQ8L.jpg\n"
     ]
    },
    {
     "name": "stderr",
     "output_type": "stream",
     "text": [
      "Preprocessing images:  81%|████████▏ | 44/54 [00:00<00:00, 72.43it/s]"
     ]
    },
    {
     "name": "stdout",
     "output_type": "stream",
     "text": [
      "Saved preprocessed image to preprocessed_images/processed_81PG3ea0MOL.jpg\n",
      "Saved preprocessed image to preprocessed_images/processed_51FSlaVlejL.jpg\n",
      "Saved preprocessed image to preprocessed_images/processed_61lX6IP1SVL.jpg\n",
      "Saved preprocessed image to preprocessed_images/processed_51Su6zXkAsL.jpg\n",
      "Saved preprocessed image to preprocessed_images/processed_71afEPoRGsL.jpg\n",
      "Saved preprocessed image to preprocessed_images/processed_81IYdOV0mVL.jpg\n",
      "Saved preprocessed image to preprocessed_images/processed_613P5cxQH4L.jpg\n",
      "Saved preprocessed image to preprocessed_images/processed_71v+pim0lfL.jpg\n",
      "Saved preprocessed image to preprocessed_images/processed_51BEuVR4ZzL.jpg\n",
      "Saved preprocessed image to preprocessed_images/processed_51bEy0J5wLL.jpg\n",
      "Saved preprocessed image to preprocessed_images/processed_51tEop-EBJL.jpg\n",
      "Saved preprocessed image to preprocessed_images/processed_61C+fwVD6dL.jpg\n",
      "Saved preprocessed image to preprocessed_images/processed_51-WIOx5pxL.jpg\n"
     ]
    },
    {
     "name": "stderr",
     "output_type": "stream",
     "text": [
      "Preprocessing images: 100%|██████████| 54/54 [00:00<00:00, 67.42it/s]"
     ]
    },
    {
     "name": "stdout",
     "output_type": "stream",
     "text": [
      "Saved preprocessed image to preprocessed_images/processed_71Qk6hR9-WL.jpg\n",
      "Saved preprocessed image to preprocessed_images/processed_417SThj+SrL.jpg\n",
      "Saved preprocessed image to preprocessed_images/processed_81qUmRUUTTL.jpg\n",
      "Saved preprocessed image to preprocessed_images/processed_61G8bvWOb-L.jpg\n",
      "Saved preprocessed image to preprocessed_images/processed_81aZ2ozp1GL.jpg\n",
      "Saved preprocessed image to preprocessed_images/processed_614hn5uX9MS.jpg\n",
      "Saved preprocessed image to preprocessed_images/processed_61O+Yi09tyL.jpg\n",
      "Preprocessed 54 images.\n"
     ]
    },
    {
     "name": "stderr",
     "output_type": "stream",
     "text": [
      "\n"
     ]
    }
   ],
   "source": [
    "\n",
    "# Example usage\n",
    "image_folder = \"/Users/aryanahmadchaudhary/Amazon ML Hackathon/Download_Images/new/Images\"  # Replace with the path to your images folder\n",
    "preprocessed_images = preprocess_images(image_folder, target_size=TARGET_SIZE)\n",
    "\n",
    "# Shape of preprocessed_images should be (num_images, 224, 224, 3)\n",
    "print(f\"Preprocessed {len(preprocessed_images)} images.\")\n"
   ]
  },
  {
   "cell_type": "code",
   "execution_count": null,
   "metadata": {},
   "outputs": [],
   "source": []
  }
 ],
 "metadata": {
  "kernelspec": {
   "display_name": "myenv",
   "language": "python",
   "name": "python3"
  },
  "language_info": {
   "codemirror_mode": {
    "name": "ipython",
    "version": 3
   },
   "file_extension": ".py",
   "mimetype": "text/x-python",
   "name": "python",
   "nbconvert_exporter": "python",
   "pygments_lexer": "ipython3",
   "version": "3.12.5"
  }
 },
 "nbformat": 4,
 "nbformat_minor": 2
}
